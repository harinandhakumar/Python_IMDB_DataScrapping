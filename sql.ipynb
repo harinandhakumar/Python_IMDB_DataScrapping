{
 "cells": [
  {
   "cell_type": "code",
   "execution_count": null,
   "metadata": {},
   "outputs": [],
   "source": [
    "import mysql.connector\n",
    "\n",
    "# Connect to MySQL Database\n",
    "conn = mysql.connector.connect(\n",
    "    host=\"localhost\",\n",
    "    port = 3306,\n",
    "    user=\"root\",\n",
    "    password=\"root\",\n",
    "    database=\"python\"\n",
    ")\n",
    "\n",
    "cursor = conn.cursor()\n",
    "\n",
    "# Check connection\n",
    "cursor.execute(\"SHOW TABLES;\")\n",
    "for table in cursor.fetchall():\n",
    "    print(table)\n",
    "\n",
    "# Close connection\n",
    "cursor.close()\n",
    "conn.close()\n"
   ]
  }
 ],
 "metadata": {
  "kernelspec": {
   "display_name": "Python 3",
   "language": "python",
   "name": "python3"
  },
  "language_info": {
   "codemirror_mode": {
    "name": "ipython",
    "version": 3
   },
   "file_extension": ".py",
   "mimetype": "text/x-python",
   "name": "python",
   "nbconvert_exporter": "python",
   "pygments_lexer": "ipython3",
   "version": "3.13.2"
  }
 },
 "nbformat": 4,
 "nbformat_minor": 2
}
